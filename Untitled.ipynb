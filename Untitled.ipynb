{
 "cells": [
  {
   "cell_type": "code",
   "execution_count": 1,
   "id": "5ad4ea2f-16f1-49fa-ae2e-56acf1f7036d",
   "metadata": {},
   "outputs": [
    {
     "name": "stderr",
     "output_type": "stream",
     "text": [
      "2023-11-06 14:13:57.486245: I tensorflow/core/platform/cpu_feature_guard.cc:182] This TensorFlow binary is optimized to use available CPU instructions in performance-critical operations.\n",
      "To enable the following instructions: AVX2 FMA, in other operations, rebuild TensorFlow with the appropriate compiler flags.\n",
      "2023-11-06 14:13:58.734424: W tensorflow/compiler/tf2tensorrt/utils/py_utils.cc:38] TF-TRT Warning: Could not find TensorRT\n"
     ]
    }
   ],
   "source": [
    "import tensorflow as tf\n",
    "import pandas as pd\n",
    "import numpy as np"
   ]
  },
  {
   "cell_type": "code",
   "execution_count": 2,
   "id": "d8c6ee77-51b0-422a-91d2-1debf1a23984",
   "metadata": {},
   "outputs": [
    {
     "data": {
      "text/plain": [
       "<bound method NDFrame.head of                                                   review sentiment\n",
       "0      One of the other reviewers has mentioned that ...  positive\n",
       "1      A wonderful little production. <br /><br />The...  positive\n",
       "2      I thought this was a wonderful way to spend ti...  positive\n",
       "3      Basically there's a family where a little boy ...  negative\n",
       "4      Petter Mattei's \"Love in the Time of Money\" is...  positive\n",
       "...                                                  ...       ...\n",
       "49995  I thought this movie did a down right good job...  positive\n",
       "49996  Bad plot, bad dialogue, bad acting, idiotic di...  negative\n",
       "49997  I am a Catholic taught in parochial elementary...  negative\n",
       "49998  I'm going to have to disagree with the previou...  negative\n",
       "49999  No one expects the Star Trek movies to be high...  negative\n",
       "\n",
       "[50000 rows x 2 columns]>"
      ]
     },
     "execution_count": 2,
     "metadata": {},
     "output_type": "execute_result"
    }
   ],
   "source": [
    "file_path = 'IMDB Dataset.csv'\n",
    "\n",
    "imdb = pd.read_csv(file_path)\n",
    "\n",
    "imdb.head"
   ]
  },
  {
   "cell_type": "code",
   "execution_count": 3,
   "id": "2e337d6e-82b3-4d30-8262-df821d024d74",
   "metadata": {},
   "outputs": [],
   "source": [
    "X = imdb['review']\n",
    "Y = imdb['sentiment']"
   ]
  },
  {
   "cell_type": "code",
   "execution_count": 61,
   "id": "99fb0160-1753-4583-9cd5-c28f8dbc372f",
   "metadata": {},
   "outputs": [],
   "source": [
    "from sklearn.model_selection import train_test_split\n",
    "\n",
    "X_train, X_test, y_train, y_test = train_test_split(X, Y, test_size=0.5, random_state=42)"
   ]
  },
  {
   "cell_type": "code",
   "execution_count": 7,
   "id": "02d1b4d9-2602-4adc-abcb-d469f55ef013",
   "metadata": {},
   "outputs": [],
   "source": [
    "X_val, X_test, y_val, y_test = train_test_split(X_test_val, y_test_val, test_size=0.5, random_state=42)"
   ]
  },
  {
   "cell_type": "code",
   "execution_count": 62,
   "id": "156f0405-c57c-41b2-a182-b7f093af59a8",
   "metadata": {},
   "outputs": [
    {
     "data": {
      "text/plain": [
       "25000"
      ]
     },
     "execution_count": 62,
     "metadata": {},
     "output_type": "execute_result"
    }
   ],
   "source": [
    "len(X_train)"
   ]
  },
  {
   "cell_type": "code",
   "execution_count": 63,
   "id": "5efa9bb9-0eeb-44ba-9f7a-989e9a6809a8",
   "metadata": {},
   "outputs": [],
   "source": [
    "num_words = 10000"
   ]
  },
  {
   "cell_type": "code",
   "execution_count": 64,
   "id": "613cef8e-d11c-48b0-9691-ce005d6d0bd4",
   "metadata": {},
   "outputs": [],
   "source": [
    "from scipy.spatial.distance import cdist\n",
    "from tensorflow.keras.models import Sequential\n",
    "from tensorflow.keras.layers import Dense, GRU, Embedding\n",
    "from tensorflow.keras.optimizers import Adam\n",
    "from tensorflow.keras.preprocessing.text import Tokenizer\n",
    "from tensorflow.keras.preprocessing.sequence import pad_sequences"
   ]
  },
  {
   "cell_type": "code",
   "execution_count": 65,
   "id": "3d870a55-8e21-4ea5-8bfe-ddaed4239433",
   "metadata": {},
   "outputs": [],
   "source": [
    "tokenizer = Tokenizer(num_words=num_words)"
   ]
  },
  {
   "cell_type": "code",
   "execution_count": 66,
   "id": "9e18881a-21d6-4595-ad1f-f7664d3cb2f1",
   "metadata": {},
   "outputs": [],
   "source": [
    "y_train = np.array(y_train)\n",
    "\n",
    "#y_val = np.array(y_val)\n",
    "\n",
    "y_test = np.array(y_test)"
   ]
  },
  {
   "cell_type": "code",
   "execution_count": 67,
   "id": "af3b3d0f-94f4-416a-86f8-298b64580758",
   "metadata": {},
   "outputs": [
    {
     "name": "stdout",
     "output_type": "stream",
     "text": [
      "Train-set size:  25000\n",
      "Test-set size:   25000\n"
     ]
    }
   ],
   "source": [
    "print(\"Train-set size: \", len(X_train))\n",
    "print(\"Test-set size:  \", len(X_test))"
   ]
  },
  {
   "cell_type": "code",
   "execution_count": 68,
   "id": "6321ef00-bdc7-4890-b6f9-099920c23552",
   "metadata": {},
   "outputs": [],
   "source": [
    "X_train = np.array(X_train)\n",
    "\n",
    "#X_val = np.array(X_val)\n",
    "\n",
    "X_test = np.array(X_test)"
   ]
  },
  {
   "cell_type": "code",
   "execution_count": 54,
   "id": "23207c00-be9b-41e9-a7db-730ba799f8e9",
   "metadata": {},
   "outputs": [],
   "source": [
    "data_text = X_train + X_test"
   ]
  },
  {
   "cell_type": "code",
   "execution_count": 69,
   "id": "374e30ee-1e90-4307-bf11-1daee88a5470",
   "metadata": {},
   "outputs": [
    {
     "name": "stdout",
     "output_type": "stream",
     "text": [
      "CPU times: user 3.1 s, sys: 19.3 ms, total: 3.11 s\n",
      "Wall time: 3.11 s\n"
     ]
    }
   ],
   "source": [
    "%%time\n",
    "tokenizer.fit_on_texts(X_train)"
   ]
  },
  {
   "cell_type": "code",
   "execution_count": 70,
   "id": "f2bab1a2-c88b-4c27-88ca-649d999f8fdb",
   "metadata": {},
   "outputs": [
    {
     "data": {
      "text/plain": [
       "{'the': 1,\n",
       " 'and': 2,\n",
       " 'a': 3,\n",
       " 'of': 4,\n",
       " 'to': 5,\n",
       " 'is': 6,\n",
       " 'br': 7,\n",
       " 'in': 8,\n",
       " 'it': 9,\n",
       " 'i': 10,\n",
       " 'this': 11,\n",
       " 'that': 12,\n",
       " 'was': 13,\n",
       " 'as': 14,\n",
       " 'movie': 15,\n",
       " 'for': 16,\n",
       " 'with': 17,\n",
       " 'but': 18,\n",
       " 'film': 19,\n",
       " 'on': 20,\n",
       " 'not': 21,\n",
       " 'you': 22,\n",
       " 'are': 23,\n",
       " 'his': 24,\n",
       " 'have': 25,\n",
       " 'be': 26,\n",
       " 'one': 27,\n",
       " 'he': 28,\n",
       " 'at': 29,\n",
       " 'all': 30,\n",
       " 'by': 31,\n",
       " 'an': 32,\n",
       " 'they': 33,\n",
       " 'so': 34,\n",
       " 'who': 35,\n",
       " 'from': 36,\n",
       " 'like': 37,\n",
       " 'or': 38,\n",
       " 'just': 39,\n",
       " 'her': 40,\n",
       " 'out': 41,\n",
       " 'about': 42,\n",
       " 'if': 43,\n",
       " \"it's\": 44,\n",
       " 'has': 45,\n",
       " 'some': 46,\n",
       " 'there': 47,\n",
       " 'what': 48,\n",
       " 'good': 49,\n",
       " 'very': 50,\n",
       " 'more': 51,\n",
       " 'when': 52,\n",
       " 'up': 53,\n",
       " 'no': 54,\n",
       " 'time': 55,\n",
       " 'my': 56,\n",
       " 'even': 57,\n",
       " 'would': 58,\n",
       " 'she': 59,\n",
       " 'only': 60,\n",
       " 'which': 61,\n",
       " 'story': 62,\n",
       " 'really': 63,\n",
       " 'their': 64,\n",
       " 'see': 65,\n",
       " 'can': 66,\n",
       " 'had': 67,\n",
       " 'me': 68,\n",
       " 'were': 69,\n",
       " 'well': 70,\n",
       " 'much': 71,\n",
       " 'than': 72,\n",
       " 'we': 73,\n",
       " 'bad': 74,\n",
       " 'get': 75,\n",
       " 'been': 76,\n",
       " 'will': 77,\n",
       " 'do': 78,\n",
       " 'other': 79,\n",
       " 'great': 80,\n",
       " 'people': 81,\n",
       " 'also': 82,\n",
       " 'into': 83,\n",
       " 'because': 84,\n",
       " 'how': 85,\n",
       " 'first': 86,\n",
       " 'most': 87,\n",
       " 'him': 88,\n",
       " \"don't\": 89,\n",
       " 'make': 90,\n",
       " 'made': 91,\n",
       " 'them': 92,\n",
       " 'its': 93,\n",
       " 'then': 94,\n",
       " 'could': 95,\n",
       " 'way': 96,\n",
       " 'movies': 97,\n",
       " 'too': 98,\n",
       " 'any': 99,\n",
       " 'after': 100,\n",
       " 'think': 101,\n",
       " 'characters': 102,\n",
       " 'watch': 103,\n",
       " 'seen': 104,\n",
       " 'two': 105,\n",
       " 'films': 106,\n",
       " 'character': 107,\n",
       " 'many': 108,\n",
       " 'being': 109,\n",
       " 'never': 110,\n",
       " 'acting': 111,\n",
       " 'plot': 112,\n",
       " 'love': 113,\n",
       " 'best': 114,\n",
       " 'did': 115,\n",
       " 'where': 116,\n",
       " 'know': 117,\n",
       " 'life': 118,\n",
       " 'little': 119,\n",
       " 'over': 120,\n",
       " 'ever': 121,\n",
       " 'show': 122,\n",
       " 'off': 123,\n",
       " 'better': 124,\n",
       " 'your': 125,\n",
       " 'does': 126,\n",
       " 'end': 127,\n",
       " 'these': 128,\n",
       " 'scene': 129,\n",
       " 'man': 130,\n",
       " 'say': 131,\n",
       " 'still': 132,\n",
       " 'here': 133,\n",
       " 'scenes': 134,\n",
       " 'why': 135,\n",
       " 'while': 136,\n",
       " 'something': 137,\n",
       " 'such': 138,\n",
       " 'go': 139,\n",
       " 'through': 140,\n",
       " 'should': 141,\n",
       " 'back': 142,\n",
       " \"i'm\": 143,\n",
       " 'those': 144,\n",
       " 'real': 145,\n",
       " 'watching': 146,\n",
       " 'now': 147,\n",
       " 'thing': 148,\n",
       " \"doesn't\": 149,\n",
       " '10': 150,\n",
       " 'though': 151,\n",
       " 'years': 152,\n",
       " \"didn't\": 153,\n",
       " 'funny': 154,\n",
       " 'actors': 155,\n",
       " 'actually': 156,\n",
       " 'find': 157,\n",
       " 'old': 158,\n",
       " 'makes': 159,\n",
       " 'another': 160,\n",
       " 'before': 161,\n",
       " 'nothing': 162,\n",
       " 'work': 163,\n",
       " 'going': 164,\n",
       " 'look': 165,\n",
       " 'director': 166,\n",
       " 'lot': 167,\n",
       " 'same': 168,\n",
       " 'new': 169,\n",
       " 'few': 170,\n",
       " 'every': 171,\n",
       " 'again': 172,\n",
       " 'part': 173,\n",
       " 'cast': 174,\n",
       " 'things': 175,\n",
       " 'down': 176,\n",
       " 'quite': 177,\n",
       " 'us': 178,\n",
       " 'pretty': 179,\n",
       " 'horror': 180,\n",
       " 'want': 181,\n",
       " 'seems': 182,\n",
       " 'around': 183,\n",
       " 'world': 184,\n",
       " 'got': 185,\n",
       " 'long': 186,\n",
       " 'take': 187,\n",
       " 'thought': 188,\n",
       " \"can't\": 189,\n",
       " 'enough': 190,\n",
       " 'big': 191,\n",
       " 'fact': 192,\n",
       " \"that's\": 193,\n",
       " 'however': 194,\n",
       " 'young': 195,\n",
       " 'give': 196,\n",
       " 'both': 197,\n",
       " \"i've\": 198,\n",
       " 'series': 199,\n",
       " 'own': 200,\n",
       " 'comedy': 201,\n",
       " 'right': 202,\n",
       " 'between': 203,\n",
       " 'without': 204,\n",
       " 'music': 205,\n",
       " 'action': 206,\n",
       " 'original': 207,\n",
       " 'may': 208,\n",
       " 'times': 209,\n",
       " 'must': 210,\n",
       " 'always': 211,\n",
       " 'saw': 212,\n",
       " 'almost': 213,\n",
       " 'whole': 214,\n",
       " 'done': 215,\n",
       " 'guy': 216,\n",
       " \"isn't\": 217,\n",
       " 'interesting': 218,\n",
       " 'point': 219,\n",
       " 'least': 220,\n",
       " 'come': 221,\n",
       " 'role': 222,\n",
       " \"there's\": 223,\n",
       " 'gets': 224,\n",
       " 'far': 225,\n",
       " '2': 226,\n",
       " 'minutes': 227,\n",
       " 'script': 228,\n",
       " 'family': 229,\n",
       " 'feel': 230,\n",
       " 'bit': 231,\n",
       " 'making': 232,\n",
       " 'am': 233,\n",
       " 'might': 234,\n",
       " 'anything': 235,\n",
       " 'since': 236,\n",
       " 'tv': 237,\n",
       " 'probably': 238,\n",
       " \"he's\": 239,\n",
       " 'last': 240,\n",
       " 'worst': 241,\n",
       " 'performance': 242,\n",
       " 'kind': 243,\n",
       " 'away': 244,\n",
       " 'fun': 245,\n",
       " 'hard': 246,\n",
       " 'yet': 247,\n",
       " 'girl': 248,\n",
       " 'sure': 249,\n",
       " 'rather': 250,\n",
       " 'anyone': 251,\n",
       " 'each': 252,\n",
       " 'found': 253,\n",
       " 'day': 254,\n",
       " 'although': 255,\n",
       " 'played': 256,\n",
       " 'looking': 257,\n",
       " 'screen': 258,\n",
       " 'having': 259,\n",
       " 'believe': 260,\n",
       " 'woman': 261,\n",
       " 'dvd': 262,\n",
       " 'everything': 263,\n",
       " 'trying': 264,\n",
       " 'especially': 265,\n",
       " 'our': 266,\n",
       " 'course': 267,\n",
       " 'shows': 268,\n",
       " 'put': 269,\n",
       " 'maybe': 270,\n",
       " 'set': 271,\n",
       " 'comes': 272,\n",
       " 'book': 273,\n",
       " 'ending': 274,\n",
       " 'main': 275,\n",
       " 'different': 276,\n",
       " 'goes': 277,\n",
       " 'effects': 278,\n",
       " 'worth': 279,\n",
       " 'sense': 280,\n",
       " 'place': 281,\n",
       " 'reason': 282,\n",
       " 'once': 283,\n",
       " 'looks': 284,\n",
       " 'play': 285,\n",
       " 'three': 286,\n",
       " 'watched': 287,\n",
       " 'actor': 288,\n",
       " 'together': 289,\n",
       " 'true': 290,\n",
       " 'money': 291,\n",
       " 'american': 292,\n",
       " 'someone': 293,\n",
       " \"wasn't\": 294,\n",
       " 'job': 295,\n",
       " 'half': 296,\n",
       " 'war': 297,\n",
       " '1': 298,\n",
       " 'high': 299,\n",
       " 'special': 300,\n",
       " 'instead': 301,\n",
       " 'left': 302,\n",
       " 'during': 303,\n",
       " 'seeing': 304,\n",
       " 'everyone': 305,\n",
       " 'audience': 306,\n",
       " 'said': 307,\n",
       " 'later': 308,\n",
       " 'year': 309,\n",
       " 'himself': 310,\n",
       " 'house': 311,\n",
       " 'seem': 312,\n",
       " 'night': 313,\n",
       " 'beautiful': 314,\n",
       " 'takes': 315,\n",
       " 'version': 316,\n",
       " 'plays': 317,\n",
       " 'excellent': 318,\n",
       " 'black': 319,\n",
       " 'shot': 320,\n",
       " 'john': 321,\n",
       " 'mind': 322,\n",
       " 'star': 323,\n",
       " 'idea': 324,\n",
       " 'fan': 325,\n",
       " 'nice': 326,\n",
       " 'else': 327,\n",
       " 'death': 328,\n",
       " 'poor': 329,\n",
       " 'short': 330,\n",
       " 'second': 331,\n",
       " 'read': 332,\n",
       " 'used': 333,\n",
       " 'along': 334,\n",
       " 'simply': 335,\n",
       " 'completely': 336,\n",
       " 'budget': 337,\n",
       " 'top': 338,\n",
       " \"you're\": 339,\n",
       " 'wife': 340,\n",
       " '3': 341,\n",
       " 'less': 342,\n",
       " 'either': 343,\n",
       " 'try': 344,\n",
       " 'friends': 345,\n",
       " 'men': 346,\n",
       " 'full': 347,\n",
       " 'home': 348,\n",
       " 'boring': 349,\n",
       " 'line': 350,\n",
       " 'next': 351,\n",
       " 'dead': 352,\n",
       " 'wrong': 353,\n",
       " 'help': 354,\n",
       " 'kids': 355,\n",
       " 'given': 356,\n",
       " 'need': 357,\n",
       " 'use': 358,\n",
       " 'enjoy': 359,\n",
       " 'stupid': 360,\n",
       " 'low': 361,\n",
       " 'classic': 362,\n",
       " 'father': 363,\n",
       " 'until': 364,\n",
       " 'production': 365,\n",
       " 'camera': 366,\n",
       " 'performances': 367,\n",
       " 'couple': 368,\n",
       " 'school': 369,\n",
       " 'rest': 370,\n",
       " 'mean': 371,\n",
       " 'truly': 372,\n",
       " 'tell': 373,\n",
       " 'awful': 374,\n",
       " 'recommend': 375,\n",
       " 'hollywood': 376,\n",
       " 'video': 377,\n",
       " 'understand': 378,\n",
       " 'sex': 379,\n",
       " 'getting': 380,\n",
       " 'keep': 381,\n",
       " 'start': 382,\n",
       " 'came': 383,\n",
       " 'itself': 384,\n",
       " 'terrible': 385,\n",
       " 'let': 386,\n",
       " 'wonderful': 387,\n",
       " 'name': 388,\n",
       " 'often': 389,\n",
       " 'moments': 390,\n",
       " 'women': 391,\n",
       " 'episode': 392,\n",
       " 'perhaps': 393,\n",
       " 'remember': 394,\n",
       " 'face': 395,\n",
       " 'human': 396,\n",
       " 'written': 397,\n",
       " 'definitely': 398,\n",
       " 'playing': 399,\n",
       " 'head': 400,\n",
       " 'stars': 401,\n",
       " 'small': 402,\n",
       " 'dialogue': 403,\n",
       " 'person': 404,\n",
       " 'doing': 405,\n",
       " 'others': 406,\n",
       " 'perfect': 407,\n",
       " 'early': 408,\n",
       " 'style': 409,\n",
       " 'lines': 410,\n",
       " 'gives': 411,\n",
       " 'piece': 412,\n",
       " 'finally': 413,\n",
       " 'certainly': 414,\n",
       " 'title': 415,\n",
       " 'went': 416,\n",
       " 'liked': 417,\n",
       " \"couldn't\": 418,\n",
       " 'mother': 419,\n",
       " 'yes': 420,\n",
       " 'based': 421,\n",
       " 'case': 422,\n",
       " 'live': 423,\n",
       " 'loved': 424,\n",
       " 'boy': 425,\n",
       " 'laugh': 426,\n",
       " 'worse': 427,\n",
       " 'hope': 428,\n",
       " 'oh': 429,\n",
       " 'lost': 430,\n",
       " '5': 431,\n",
       " 'absolutely': 432,\n",
       " 'sort': 433,\n",
       " 'entertaining': 434,\n",
       " 'several': 435,\n",
       " 'become': 436,\n",
       " '4': 437,\n",
       " 'felt': 438,\n",
       " 'entire': 439,\n",
       " 'picture': 440,\n",
       " 'totally': 441,\n",
       " 'supposed': 442,\n",
       " 'friend': 443,\n",
       " 'overall': 444,\n",
       " 'sound': 445,\n",
       " 'guys': 446,\n",
       " 'waste': 447,\n",
       " 'problem': 448,\n",
       " 'dark': 449,\n",
       " 'cinema': 450,\n",
       " 'called': 451,\n",
       " 'already': 452,\n",
       " 'throughout': 453,\n",
       " 'against': 454,\n",
       " 'under': 455,\n",
       " 'fans': 456,\n",
       " 'direction': 457,\n",
       " 'lead': 458,\n",
       " 'care': 459,\n",
       " 'humor': 460,\n",
       " 'turn': 461,\n",
       " 'despite': 462,\n",
       " 'white': 463,\n",
       " \"she's\": 464,\n",
       " 'wanted': 465,\n",
       " 'beginning': 466,\n",
       " 'drama': 467,\n",
       " 'lives': 468,\n",
       " 'seemed': 469,\n",
       " 'guess': 470,\n",
       " 'example': 471,\n",
       " 'children': 472,\n",
       " 'final': 473,\n",
       " 'evil': 474,\n",
       " 'quality': 475,\n",
       " 'writing': 476,\n",
       " 'mr': 477,\n",
       " 'becomes': 478,\n",
       " \"you'll\": 479,\n",
       " \"i'd\": 480,\n",
       " 'days': 481,\n",
       " 'game': 482,\n",
       " 'unfortunately': 483,\n",
       " 'heart': 484,\n",
       " 'history': 485,\n",
       " 'enjoyed': 486,\n",
       " 'horrible': 487,\n",
       " 'fine': 488,\n",
       " 'able': 489,\n",
       " 'side': 490,\n",
       " 'kill': 491,\n",
       " 'works': 492,\n",
       " 'amazing': 493,\n",
       " 'b': 494,\n",
       " 'wants': 495,\n",
       " 'matter': 496,\n",
       " 'son': 497,\n",
       " 'art': 498,\n",
       " 'flick': 499,\n",
       " \"they're\": 500,\n",
       " 'killer': 501,\n",
       " 'behind': 502,\n",
       " 'act': 503,\n",
       " '\\x96': 504,\n",
       " 'etc': 505,\n",
       " 'michael': 506,\n",
       " 'eyes': 507,\n",
       " 'close': 508,\n",
       " 'gave': 509,\n",
       " 'past': 510,\n",
       " 'themselves': 511,\n",
       " 'favorite': 512,\n",
       " 'town': 513,\n",
       " 'tries': 514,\n",
       " 'hand': 515,\n",
       " 'run': 516,\n",
       " 'brilliant': 517,\n",
       " 'hour': 518,\n",
       " 'directed': 519,\n",
       " 'genre': 520,\n",
       " 'says': 521,\n",
       " 'girls': 522,\n",
       " 'actress': 523,\n",
       " 'killed': 524,\n",
       " 'obviously': 525,\n",
       " \"won't\": 526,\n",
       " 'car': 527,\n",
       " 'expect': 528,\n",
       " 'group': 529,\n",
       " 'turns': 530,\n",
       " 'stuff': 531,\n",
       " 'decent': 532,\n",
       " 'soon': 533,\n",
       " 'late': 534,\n",
       " 'myself': 535,\n",
       " 'highly': 536,\n",
       " 'starts': 537,\n",
       " 'kid': 538,\n",
       " 'parts': 539,\n",
       " 'blood': 540,\n",
       " 'child': 541,\n",
       " 'stop': 542,\n",
       " 'type': 543,\n",
       " 'thinking': 544,\n",
       " 'viewer': 545,\n",
       " 'anyway': 546,\n",
       " 'except': 547,\n",
       " 'known': 548,\n",
       " 'god': 549,\n",
       " 'sometimes': 550,\n",
       " 'city': 551,\n",
       " 'heard': 552,\n",
       " 'took': 553,\n",
       " 'self': 554,\n",
       " 'experience': 555,\n",
       " 'police': 556,\n",
       " 'happens': 557,\n",
       " 'leave': 558,\n",
       " 'feeling': 559,\n",
       " 'ago': 560,\n",
       " 'fight': 561,\n",
       " 'obvious': 562,\n",
       " 'score': 563,\n",
       " 'crap': 564,\n",
       " 'ok': 565,\n",
       " 'coming': 566,\n",
       " 'daughter': 567,\n",
       " \"wouldn't\": 568,\n",
       " 'happen': 569,\n",
       " 'told': 570,\n",
       " 'extremely': 571,\n",
       " 'strong': 572,\n",
       " 'stories': 573,\n",
       " 'voice': 574,\n",
       " 'moment': 575,\n",
       " 'violence': 576,\n",
       " 'involved': 577,\n",
       " 'lack': 578,\n",
       " 'slow': 579,\n",
       " 'particularly': 580,\n",
       " 'hell': 581,\n",
       " 'hilarious': 582,\n",
       " 'taken': 583,\n",
       " 'writer': 584,\n",
       " 'including': 585,\n",
       " 'cool': 586,\n",
       " 'english': 587,\n",
       " 'wonder': 588,\n",
       " 'save': 589,\n",
       " 'looked': 590,\n",
       " 's': 591,\n",
       " 'roles': 592,\n",
       " 'gore': 593,\n",
       " 'hours': 594,\n",
       " 'simple': 595,\n",
       " 'age': 596,\n",
       " 'hit': 597,\n",
       " 'shown': 598,\n",
       " 'released': 599,\n",
       " 'cut': 600,\n",
       " 'attempt': 601,\n",
       " 'complete': 602,\n",
       " 'seriously': 603,\n",
       " 'serious': 604,\n",
       " 'chance': 605,\n",
       " 'career': 606,\n",
       " 'cinematography': 607,\n",
       " 'happened': 608,\n",
       " 'murder': 609,\n",
       " 'possible': 610,\n",
       " 'song': 611,\n",
       " 'living': 612,\n",
       " 'interest': 613,\n",
       " 'saying': 614,\n",
       " 'exactly': 615,\n",
       " 'across': 616,\n",
       " 'cannot': 617,\n",
       " 'running': 618,\n",
       " 'opening': 619,\n",
       " 'robert': 620,\n",
       " 'huge': 621,\n",
       " 'usually': 622,\n",
       " 'hero': 623,\n",
       " 'alone': 624,\n",
       " 'four': 625,\n",
       " 'word': 626,\n",
       " 'please': 627,\n",
       " 'number': 628,\n",
       " 'body': 629,\n",
       " 'james': 630,\n",
       " 'shots': 631,\n",
       " 'important': 632,\n",
       " 'yourself': 633,\n",
       " 'order': 634,\n",
       " 'annoying': 635,\n",
       " 'husband': 636,\n",
       " 'major': 637,\n",
       " 'today': 638,\n",
       " 'jokes': 639,\n",
       " 'reality': 640,\n",
       " 'none': 641,\n",
       " 'documentary': 642,\n",
       " 'taking': 643,\n",
       " 'david': 644,\n",
       " 'started': 645,\n",
       " 'whose': 646,\n",
       " 'rating': 647,\n",
       " 'brother': 648,\n",
       " 'turned': 649,\n",
       " 'beyond': 650,\n",
       " \"i'll\": 651,\n",
       " 'ones': 652,\n",
       " 'jack': 653,\n",
       " 'view': 654,\n",
       " 'change': 655,\n",
       " 'talent': 656,\n",
       " 'wish': 657,\n",
       " 'scary': 658,\n",
       " 'basically': 659,\n",
       " \"film's\": 660,\n",
       " 'single': 661,\n",
       " 'relationship': 662,\n",
       " 'light': 663,\n",
       " 'power': 664,\n",
       " 'sad': 665,\n",
       " 'ridiculous': 666,\n",
       " 'ends': 667,\n",
       " 'silly': 668,\n",
       " 'female': 669,\n",
       " 'call': 670,\n",
       " 'strange': 671,\n",
       " 'disappointed': 672,\n",
       " 'level': 673,\n",
       " 'opinion': 674,\n",
       " 'words': 675,\n",
       " 'middle': 676,\n",
       " 'episodes': 677,\n",
       " 'talk': 678,\n",
       " 'happy': 679,\n",
       " 'problems': 680,\n",
       " 'modern': 681,\n",
       " 'novel': 682,\n",
       " 'upon': 683,\n",
       " 'mostly': 684,\n",
       " 'usual': 685,\n",
       " 'five': 686,\n",
       " 'somewhat': 687,\n",
       " 'knew': 688,\n",
       " 'due': 689,\n",
       " 'country': 690,\n",
       " 'attention': 691,\n",
       " 'room': 692,\n",
       " 'talking': 693,\n",
       " 'knows': 694,\n",
       " '7': 695,\n",
       " 'events': 696,\n",
       " 'class': 697,\n",
       " 'non': 698,\n",
       " '8': 699,\n",
       " 'musical': 700,\n",
       " 'finds': 701,\n",
       " 'thriller': 702,\n",
       " 'miss': 703,\n",
       " 'add': 704,\n",
       " 'television': 705,\n",
       " 'apparently': 706,\n",
       " 'straight': 707,\n",
       " 'tells': 708,\n",
       " 'ten': 709,\n",
       " 'dialog': 710,\n",
       " 'british': 711,\n",
       " 'moving': 712,\n",
       " 'dull': 713,\n",
       " 'space': 714,\n",
       " 'fast': 715,\n",
       " 'entertainment': 716,\n",
       " 'sequence': 717,\n",
       " 'review': 718,\n",
       " 'appears': 719,\n",
       " 'local': 720,\n",
       " 'cheap': 721,\n",
       " 'clearly': 722,\n",
       " 'predictable': 723,\n",
       " 'release': 724,\n",
       " \"aren't\": 725,\n",
       " 'earth': 726,\n",
       " 'songs': 727,\n",
       " 'easily': 728,\n",
       " 'die': 729,\n",
       " \"what's\": 730,\n",
       " 'near': 731,\n",
       " 'lots': 732,\n",
       " 'french': 733,\n",
       " 'ways': 734,\n",
       " 'hate': 735,\n",
       " 'future': 736,\n",
       " 'enjoyable': 737,\n",
       " 'within': 738,\n",
       " \"haven't\": 739,\n",
       " 'suspense': 740,\n",
       " 'team': 741,\n",
       " 'supporting': 742,\n",
       " 'sets': 743,\n",
       " 'comic': 744,\n",
       " 'sorry': 745,\n",
       " 'sequel': 746,\n",
       " 'giving': 747,\n",
       " 'similar': 748,\n",
       " 'surprised': 749,\n",
       " 'theme': 750,\n",
       " 'falls': 751,\n",
       " \"'\": 752,\n",
       " 'among': 753,\n",
       " 'soundtrack': 754,\n",
       " '9': 755,\n",
       " 'rock': 756,\n",
       " 't': 757,\n",
       " 'bring': 758,\n",
       " 'above': 759,\n",
       " 'whether': 760,\n",
       " 'mention': 761,\n",
       " 'showing': 762,\n",
       " 'viewers': 763,\n",
       " 'certain': 764,\n",
       " 'working': 765,\n",
       " 'named': 766,\n",
       " 'george': 767,\n",
       " 'tried': 768,\n",
       " 'eye': 769,\n",
       " 'feels': 770,\n",
       " 'bunch': 771,\n",
       " 'filmed': 772,\n",
       " 'stay': 773,\n",
       " 'minute': 774,\n",
       " 'storyline': 775,\n",
       " 'message': 776,\n",
       " 'editing': 777,\n",
       " 'mystery': 778,\n",
       " 'subject': 779,\n",
       " 'effort': 780,\n",
       " 'theater': 781,\n",
       " 'needs': 782,\n",
       " 'famous': 783,\n",
       " 'fall': 784,\n",
       " 'buy': 785,\n",
       " 'easy': 786,\n",
       " 'using': 787,\n",
       " 'greatest': 788,\n",
       " 'check': 789,\n",
       " 'romantic': 790,\n",
       " 'deal': 791,\n",
       " 'stand': 792,\n",
       " 'sister': 793,\n",
       " 'typical': 794,\n",
       " 'tale': 795,\n",
       " 'parents': 796,\n",
       " 'dr': 797,\n",
       " 'avoid': 798,\n",
       " 'herself': 799,\n",
       " 'clear': 800,\n",
       " 'monster': 801,\n",
       " 'reviews': 802,\n",
       " 'richard': 803,\n",
       " 'doubt': 804,\n",
       " 'comments': 805,\n",
       " 'kept': 806,\n",
       " 'brought': 807,\n",
       " 'learn': 808,\n",
       " 'follow': 809,\n",
       " 'oscar': 810,\n",
       " 'actual': 811,\n",
       " 're': 812,\n",
       " 'king': 813,\n",
       " 'feature': 814,\n",
       " 'okay': 815,\n",
       " 'form': 816,\n",
       " 'gone': 817,\n",
       " 'rent': 818,\n",
       " 'period': 819,\n",
       " 'lady': 820,\n",
       " 'nearly': 821,\n",
       " 'means': 822,\n",
       " 'leads': 823,\n",
       " 'general': 824,\n",
       " 'particular': 825,\n",
       " 'elements': 826,\n",
       " 'viewing': 827,\n",
       " 'points': 828,\n",
       " \"you've\": 829,\n",
       " 'move': 830,\n",
       " 'material': 831,\n",
       " 'imagine': 832,\n",
       " 'box': 833,\n",
       " 'fantastic': 834,\n",
       " 'begins': 835,\n",
       " 'deep': 836,\n",
       " 'crime': 837,\n",
       " 'believable': 838,\n",
       " 'somehow': 839,\n",
       " 'forced': 840,\n",
       " 'open': 841,\n",
       " 'dog': 842,\n",
       " 'whatever': 843,\n",
       " 'weak': 844,\n",
       " 'paul': 845,\n",
       " 'emotional': 846,\n",
       " 'realistic': 847,\n",
       " 'decided': 848,\n",
       " 'doctor': 849,\n",
       " 'sequences': 850,\n",
       " 'season': 851,\n",
       " 'fi': 852,\n",
       " 'red': 853,\n",
       " 'surprise': 854,\n",
       " 'animation': 855,\n",
       " 'sit': 856,\n",
       " 'dance': 857,\n",
       " 'killing': 858,\n",
       " 'poorly': 859,\n",
       " 'sci': 860,\n",
       " 'boys': 861,\n",
       " 'free': 862,\n",
       " 'eventually': 863,\n",
       " 'peter': 864,\n",
       " 'nature': 865,\n",
       " 'atmosphere': 866,\n",
       " 'forget': 867,\n",
       " 'shame': 868,\n",
       " 'imdb': 869,\n",
       " 'needed': 870,\n",
       " 'wait': 871,\n",
       " 'truth': 872,\n",
       " 'romance': 873,\n",
       " 'credits': 874,\n",
       " 'expected': 875,\n",
       " 'figure': 876,\n",
       " \"who's\": 877,\n",
       " 'possibly': 878,\n",
       " '20': 879,\n",
       " 'note': 880,\n",
       " 'average': 881,\n",
       " 'hear': 882,\n",
       " 'lame': 883,\n",
       " 'tom': 884,\n",
       " 'write': 885,\n",
       " 'memorable': 886,\n",
       " 'indeed': 887,\n",
       " 'cheesy': 888,\n",
       " 'premise': 889,\n",
       " 'dumb': 890,\n",
       " 'york': 891,\n",
       " 'acted': 892,\n",
       " 'badly': 893,\n",
       " 'towards': 894,\n",
       " 'difficult': 895,\n",
       " 'footage': 896,\n",
       " 'gay': 897,\n",
       " 'reading': 898,\n",
       " 'hot': 899,\n",
       " 'crew': 900,\n",
       " 'situation': 901,\n",
       " 'interested': 902,\n",
       " 'unless': 903,\n",
       " 'third': 904,\n",
       " 'fire': 905,\n",
       " 'air': 906,\n",
       " 'setting': 907,\n",
       " 'question': 908,\n",
       " 'leaves': 909,\n",
       " 'sexual': 910,\n",
       " 'whom': 911,\n",
       " 'forward': 912,\n",
       " 'beauty': 913,\n",
       " 'western': 914,\n",
       " 'begin': 915,\n",
       " 'comment': 916,\n",
       " 'otherwise': 917,\n",
       " 'earlier': 918,\n",
       " 'inside': 919,\n",
       " 'effect': 920,\n",
       " 'male': 921,\n",
       " 'laughs': 922,\n",
       " 'plus': 923,\n",
       " 'sounds': 924,\n",
       " 'de': 925,\n",
       " 'personal': 926,\n",
       " 'superb': 927,\n",
       " 'became': 928,\n",
       " 'unique': 929,\n",
       " 'weird': 930,\n",
       " 'e': 931,\n",
       " 'society': 932,\n",
       " 'joe': 933,\n",
       " 'writers': 934,\n",
       " 'stage': 935,\n",
       " 'following': 936,\n",
       " 'incredibly': 937,\n",
       " 'joke': 938,\n",
       " 'features': 939,\n",
       " 'plenty': 940,\n",
       " 'total': 941,\n",
       " 'directing': 942,\n",
       " 'lee': 943,\n",
       " 'realize': 944,\n",
       " 'mark': 945,\n",
       " 'battle': 946,\n",
       " 'result': 947,\n",
       " \"let's\": 948,\n",
       " 'water': 949,\n",
       " 'screenplay': 950,\n",
       " 'masterpiece': 951,\n",
       " 'hands': 952,\n",
       " 'powerful': 953,\n",
       " 'island': 954,\n",
       " 'japanese': 955,\n",
       " 'business': 956,\n",
       " 'nor': 957,\n",
       " 'bill': 958,\n",
       " 'deserves': 959,\n",
       " 'quickly': 960,\n",
       " 'baby': 961,\n",
       " 'older': 962,\n",
       " 'meant': 963,\n",
       " 'meets': 964,\n",
       " 'background': 965,\n",
       " 'cover': 966,\n",
       " 'zombie': 967,\n",
       " 'dream': 968,\n",
       " 'keeps': 969,\n",
       " 'fairly': 970,\n",
       " 'admit': 971,\n",
       " 'mess': 972,\n",
       " 'create': 973,\n",
       " 'missing': 974,\n",
       " 'worked': 975,\n",
       " 'street': 976,\n",
       " 'dramatic': 977,\n",
       " 'rate': 978,\n",
       " 'telling': 979,\n",
       " 'front': 980,\n",
       " 'previous': 981,\n",
       " 'copy': 982,\n",
       " 'attempts': 983,\n",
       " 'portrayed': 984,\n",
       " 'appear': 985,\n",
       " 'america': 986,\n",
       " 'rich': 987,\n",
       " 'girlfriend': 988,\n",
       " 'various': 989,\n",
       " 'perfectly': 990,\n",
       " 'meet': 991,\n",
       " 'agree': 992,\n",
       " 'hardly': 993,\n",
       " 'ask': 994,\n",
       " 'break': 995,\n",
       " 'present': 996,\n",
       " 'fighting': 997,\n",
       " 'development': 998,\n",
       " 'success': 999,\n",
       " 'spent': 1000,\n",
       " ...}"
      ]
     },
     "execution_count": 70,
     "metadata": {},
     "output_type": "execute_result"
    }
   ],
   "source": [
    "tokenizer.word_index"
   ]
  },
  {
   "cell_type": "code",
   "execution_count": 71,
   "id": "890b9eb9-62e8-41cc-addd-852bdb692d92",
   "metadata": {},
   "outputs": [],
   "source": [
    "x_train_tokens = tokenizer.texts_to_sequences(X_train)"
   ]
  },
  {
   "cell_type": "code",
   "execution_count": 72,
   "id": "2648b80b-8fc6-4c0e-bbcf-57637ae4b5d7",
   "metadata": {},
   "outputs": [
    {
     "data": {
      "text/plain": [
       "'Wow, here it finally is; the action \"movie\" without action. In a real low-budget setting (don\\'t miss the hilarious flying saucers flying by a few times) of a future Seattle we find a no-brain hardbody seeking to avenge her childhood.<br /><br />There is nothing even remotely original or interesting about the plot and the actors\\' performance is only rivalled in stupidity by the attempts to steal from other movies, mainly \"Matrix\" without having the money to do it right. Yes, we do get to see some running on walls and slow motion shoot-outs (45 secs approx.) but these scenes are about as cool as the stupid hardbody\\'s attempts at making jokes about male incompetence now and then.<br /><br />And, yes, we are also served a number of leads that lead absolutely nowhere, as if the script was thought-out by the previously unseen cast while shooting the scenes.<br /><br />Believe me, it is as bad as it possibly can get. In fact, it doesn\\'t deserve to be taken seriously, but perhaps I can make some of you not rent it and save your money.'"
      ]
     },
     "execution_count": 72,
     "metadata": {},
     "output_type": "execute_result"
    }
   ],
   "source": [
    "X_train[1]"
   ]
  },
  {
   "cell_type": "code",
   "execution_count": 73,
   "id": "a7bb6c5d-e266-4575-977f-7fb10463348c",
   "metadata": {},
   "outputs": [],
   "source": [
    "x_test_tokens = tokenizer.texts_to_sequences(X_test)"
   ]
  },
  {
   "cell_type": "code",
   "execution_count": 74,
   "id": "d0e3afeb-50a3-45a7-b7a9-8f178c35eb62",
   "metadata": {},
   "outputs": [],
   "source": [
    "num_tokens = [len(tokens) for tokens in x_train_tokens + x_test_tokens]\n",
    "num_tokens = np.array(num_tokens)"
   ]
  },
  {
   "cell_type": "code",
   "execution_count": 75,
   "id": "3762ae88-575b-46bb-9b14-7df1a20af96d",
   "metadata": {},
   "outputs": [
    {
     "data": {
      "text/plain": [
       "221.17448"
      ]
     },
     "execution_count": 75,
     "metadata": {},
     "output_type": "execute_result"
    }
   ],
   "source": [
    "np.mean(num_tokens)"
   ]
  },
  {
   "cell_type": "code",
   "execution_count": 76,
   "id": "cf4fa144-65df-4c73-9d0b-fcd6a378c784",
   "metadata": {},
   "outputs": [
    {
     "data": {
      "text/plain": [
       "2204"
      ]
     },
     "execution_count": 76,
     "metadata": {},
     "output_type": "execute_result"
    }
   ],
   "source": [
    "np.max(num_tokens)"
   ]
  },
  {
   "cell_type": "code",
   "execution_count": 77,
   "id": "068d16b5-af32-4c41-971a-1e2aa88fa59e",
   "metadata": {},
   "outputs": [
    {
     "data": {
      "text/plain": [
       "544"
      ]
     },
     "execution_count": 77,
     "metadata": {},
     "output_type": "execute_result"
    }
   ],
   "source": [
    "max_tokens = np.mean(num_tokens) + 2 * np.std(num_tokens)\n",
    "max_tokens = int(max_tokens)\n",
    "max_tokens"
   ]
  },
  {
   "cell_type": "code",
   "execution_count": 78,
   "id": "7e075e97-ce19-41cd-8d47-b01fd193a0b3",
   "metadata": {},
   "outputs": [
    {
     "data": {
      "text/plain": [
       "0.94524"
      ]
     },
     "execution_count": 78,
     "metadata": {},
     "output_type": "execute_result"
    }
   ],
   "source": [
    "np.sum(num_tokens < max_tokens) / len(num_tokens)"
   ]
  },
  {
   "cell_type": "code",
   "execution_count": 79,
   "id": "771e0505-9003-47b2-b747-49164dce599f",
   "metadata": {},
   "outputs": [],
   "source": [
    "pad = 'pre'"
   ]
  },
  {
   "cell_type": "code",
   "execution_count": 80,
   "id": "31abf678-057c-4442-ab50-e0e3034205bb",
   "metadata": {},
   "outputs": [],
   "source": [
    "x_train_pad = pad_sequences(x_train_tokens, maxlen=max_tokens,\n",
    "                            padding=pad, truncating=pad)"
   ]
  },
  {
   "cell_type": "code",
   "execution_count": 81,
   "id": "fd7e751a-afea-446f-8e26-50eaf0f06e88",
   "metadata": {},
   "outputs": [],
   "source": [
    "x_test_pad = pad_sequences(x_test_tokens, maxlen=max_tokens,\n",
    "                           padding=pad, truncating=pad)"
   ]
  },
  {
   "cell_type": "code",
   "execution_count": 82,
   "id": "73d0e596-87b5-4039-b391-cdb8b6c13f3f",
   "metadata": {},
   "outputs": [
    {
     "data": {
      "text/plain": [
       "(25000, 544)"
      ]
     },
     "execution_count": 82,
     "metadata": {},
     "output_type": "execute_result"
    }
   ],
   "source": [
    "x_train_pad.shape"
   ]
  },
  {
   "cell_type": "code",
   "execution_count": 83,
   "id": "d0868f86-a683-4803-b07c-5dfed6ea8bf8",
   "metadata": {},
   "outputs": [
    {
     "data": {
      "text/plain": [
       "(25000, 544)"
      ]
     },
     "execution_count": 83,
     "metadata": {},
     "output_type": "execute_result"
    }
   ],
   "source": [
    "x_test_pad.shape"
   ]
  },
  {
   "cell_type": "code",
   "execution_count": 84,
   "id": "0833c0de-9562-4def-8bc1-14b466cfe0d8",
   "metadata": {},
   "outputs": [
    {
     "data": {
      "text/plain": [
       "array([   0,    0,    0,    0,    0,    0,    0,    0,    0,    0,    0,\n",
       "          0,    0,    0,    0,    0,    0,    0,    0,    0,    0,    0,\n",
       "          0,    0,    0,    0,    0,    0,    0,    0,    0,    0,    0,\n",
       "          0,    0,    0,    0,    0,    0,    0,    0,    0,    0,    0,\n",
       "          0,    0,    0,    0,    0,    0,    0,    0,    0,    0,    0,\n",
       "          0,    0,    0,    0,    0,    0,    0,    0,    0,    0,    0,\n",
       "          0,    0,    0,    0,    0,    0,    0,    0,    0,    0,    0,\n",
       "          0,    0,    0,    0,    0,    0,    0,    0,    0,    0,    0,\n",
       "          0,    0,    0,    0,    0,    0,    0,    0,    0,    0,    0,\n",
       "          0,    0,    0,    0,    0,    0,    0,    0,    0,    0,    0,\n",
       "          0,    0,    0,    0,    0,    0,    0,    0,    0,    0,    0,\n",
       "          0,    0,    0,    0,    0,    0,    0,    0,    0,    0,    0,\n",
       "          0,    0,    0,    0,    0,    0,    0,    0,    0,    0,    0,\n",
       "          0,    0,    0,    0,    0,    0,    0,    0,    0,    0,    0,\n",
       "          0,    0,    0,    0,    0,    0,    0,    0,    0,    0,    0,\n",
       "          0,    0,    0,    0,    0,    0,    0,    0,    0,    0,    0,\n",
       "          0,    0,    0,    0,    0,    0,    0,    0,    0,    0,    0,\n",
       "          0,    0,    0,    0,    0,    0,    0,    0,    0,    0,    0,\n",
       "          0,    0,    0,    0,    0,    0,    0,    0,    0,    0,    0,\n",
       "          0,    0,    0,    0,    0,    0,    0,    0,    0,    0,    0,\n",
       "          0,    0,    0,    0,    0,    0,    0,    0,    0,    0,    0,\n",
       "          0,    0,    0,    0,    0,    0,    0,    0,    0,    0,    0,\n",
       "          0,    0,    0,    0,    0,    0,    0,    0,    0,    0,    0,\n",
       "          0,    0,    0,    0,    0,    0,    0,    0,    0,    0,    0,\n",
       "          0,    0,    0,    0,    0,    0,    0,    0,    0,    0,    0,\n",
       "          0,    0,    0,    0,    0,    0,    0,    0,    0,    0,    0,\n",
       "          0,    0,    0,    0,    0,    0,    0,    0,    0,    0,    0,\n",
       "          0,    0,    0,    0,    0,    0,    0,    0,    0,    0,    0,\n",
       "          0,    0,    0,    0,    0,    0,    0,    0,    0,    0,    0,\n",
       "          0,    0,    0,    0,    0,    0,    0,    0,    0,    0,    0,\n",
       "          0,    0,    0,    0,    0,    0,    0,    0,    0,    0,    0,\n",
       "          0,    0,    0,    0,    0,    0,    0,    0,    0,    0,    0,\n",
       "          0,    0,    0,    0,    0,    0,    0,    0, 1258,  133,    9,\n",
       "        413,    6,    1,  206,   15,  204,  206,    8,    3,  145,  361,\n",
       "        337,  907,   89,  703,    1,  582, 1630, 1630,   31,    3,  170,\n",
       "        209,    4,    3,  736, 7395,   73,  157,    3,   54, 1146, 2868,\n",
       "          5, 9436,   40, 1664,    7,    7,   47,    6,  162,   57, 2636,\n",
       "        207,   38,  218,   42,    1,  112,    2,    1, 6206,  242,    6,\n",
       "         60,    8, 2813,   31,    1,  983,    5, 2074,   36,   79,   97,\n",
       "       1424, 2869,  204,  259,    1,  291,    5,   78,    9,  202,  420,\n",
       "         73,   78,   75,    5,   65,   46,  618,   20, 3374,    2,  579,\n",
       "       1316, 1176, 6432, 3248,   18,  128,  134,   23,   42,   14,  586,\n",
       "         14,    1,  360,  983,   29,  232,  639,   42,  921, 8738,  147,\n",
       "          2,   94,    7,    7,    2,  420,   73,   23,   82, 2894,    3,\n",
       "        628,    4,  823,   12,  458,  432, 1291,   14,   43,    1,  228,\n",
       "         13,  188,   41,   31,    1, 2426, 4887,  174,  136, 1177,    1,\n",
       "        134,    7,    7,  260,   68,    9,    6,   14,   74,   14,    9,\n",
       "        878,   66,   75,    8,  192,    9,  149, 1741,    5,   26,  583,\n",
       "        603,   18,  393,   10,   66,   90,   46,    4,   22,   21,  818,\n",
       "          9,    2,  589,  125,  291], dtype=int32)"
      ]
     },
     "execution_count": 84,
     "metadata": {},
     "output_type": "execute_result"
    }
   ],
   "source": [
    "x_train_pad[1]"
   ]
  },
  {
   "cell_type": "code",
   "execution_count": 85,
   "id": "121f6772-94af-41e8-b717-3f3aaadf9fd7",
   "metadata": {},
   "outputs": [],
   "source": [
    "idx = tokenizer.word_index\n",
    "inverse_map = dict(zip(idx.values(), idx.keys()))"
   ]
  },
  {
   "cell_type": "code",
   "execution_count": 86,
   "id": "d2c4ce7a-e21b-4206-a46f-d5db70d5ec82",
   "metadata": {},
   "outputs": [],
   "source": [
    "def tokens_to_string(tokens):\n",
    "    # Map from tokens back to words.\n",
    "    words = [inverse_map[token] for token in tokens if token != 0]\n",
    "    \n",
    "    # Concatenate all words.\n",
    "    text = \" \".join(words)\n",
    "\n",
    "    return text"
   ]
  },
  {
   "cell_type": "code",
   "execution_count": 87,
   "id": "96b62170-29c7-4b68-9767-48fcce58efca",
   "metadata": {},
   "outputs": [
    {
     "data": {
      "text/plain": [
       "\"wow here it finally is the action movie without action in a real low budget setting don't miss the hilarious flying flying by a few times of a future seattle we find a no brain seeking to avenge her childhood br br there is nothing even remotely original or interesting about the plot and the actors' performance is only in stupidity by the attempts to steal from other movies mainly matrix without having the money to do it right yes we do get to see some running on walls and slow motion shoot outs 45 but these scenes are about as cool as the stupid attempts at making jokes about male incompetence now and then br br and yes we are also served a number of leads that lead absolutely nowhere as if the script was thought out by the previously unseen cast while shooting the scenes br br believe me it is as bad as it possibly can get in fact it doesn't deserve to be taken seriously but perhaps i can make some of you not rent it and save your money\""
      ]
     },
     "execution_count": 87,
     "metadata": {},
     "output_type": "execute_result"
    }
   ],
   "source": [
    "tokens_to_string(x_train_tokens[1])"
   ]
  },
  {
   "cell_type": "code",
   "execution_count": 88,
   "id": "5e4508f1-4008-481a-9062-a49ff4d3ee60",
   "metadata": {},
   "outputs": [
    {
     "name": "stderr",
     "output_type": "stream",
     "text": [
      "2023-11-06 15:14:24.719687: I tensorflow/compiler/xla/stream_executor/cuda/cuda_gpu_executor.cc:995] successful NUMA node read from SysFS had negative value (-1), but there must be at least one NUMA node, so returning NUMA node zero. See more at https://github.com/torvalds/linux/blob/v6.0/Documentation/ABI/testing/sysfs-bus-pci#L344-L355\n",
      "2023-11-06 15:14:24.762710: W tensorflow/core/common_runtime/gpu/gpu_device.cc:1960] Cannot dlopen some GPU libraries. Please make sure the missing libraries mentioned above are installed properly if you would like to use GPU. Follow the guide at https://www.tensorflow.org/install/gpu for how to download and setup the required libraries for your platform.\n",
      "Skipping registering GPU devices...\n"
     ]
    }
   ],
   "source": [
    "model = Sequential()"
   ]
  },
  {
   "cell_type": "code",
   "execution_count": 89,
   "id": "0557ae63-39f3-42da-a58e-4d6c241f0596",
   "metadata": {},
   "outputs": [],
   "source": [
    "embedding_size = 8"
   ]
  },
  {
   "cell_type": "code",
   "execution_count": 90,
   "id": "e042708f-b475-41c0-93c7-a38d88906480",
   "metadata": {},
   "outputs": [],
   "source": [
    "model.add(Embedding(input_dim=num_words,\n",
    "                    output_dim=embedding_size,\n",
    "                    input_length=max_tokens,\n",
    "                    name='layer_embedding'))"
   ]
  },
  {
   "cell_type": "code",
   "execution_count": 91,
   "id": "3e0048ee-28f6-47af-97ee-3c9a4f37bb91",
   "metadata": {},
   "outputs": [],
   "source": [
    "model.add(GRU(units=16, return_sequences=True))"
   ]
  },
  {
   "cell_type": "code",
   "execution_count": 92,
   "id": "573888bd-fc1f-453e-a115-0c4e82364142",
   "metadata": {},
   "outputs": [],
   "source": [
    "model.add(GRU(units=8, return_sequences=True))"
   ]
  },
  {
   "cell_type": "code",
   "execution_count": 93,
   "id": "767c0bc3-32e9-40bc-8a86-a2e72d9f4e03",
   "metadata": {},
   "outputs": [],
   "source": [
    "model.add(GRU(units=4))"
   ]
  },
  {
   "cell_type": "code",
   "execution_count": 94,
   "id": "3817c1ac-3198-43e8-a2cd-cdc8c103a733",
   "metadata": {},
   "outputs": [],
   "source": [
    "model.add(Dense(1, activation='sigmoid'))"
   ]
  },
  {
   "cell_type": "code",
   "execution_count": 95,
   "id": "90dd799b-b442-4785-af6e-c38c0bd8b444",
   "metadata": {},
   "outputs": [
    {
     "name": "stderr",
     "output_type": "stream",
     "text": [
      "WARNING:absl:`lr` is deprecated in Keras optimizer, please use `learning_rate` or use the legacy optimizer, e.g.,tf.keras.optimizers.legacy.Adam.\n"
     ]
    }
   ],
   "source": [
    "optimizer = Adam(lr=1e-3)"
   ]
  },
  {
   "cell_type": "code",
   "execution_count": 96,
   "id": "99321312-a059-4234-8b6d-c50a495e2b50",
   "metadata": {},
   "outputs": [],
   "source": [
    "model.compile(loss='binary_crossentropy',\n",
    "              optimizer=optimizer,\n",
    "              metrics=['accuracy'])"
   ]
  },
  {
   "cell_type": "code",
   "execution_count": 102,
   "id": "64cf12dd-7f1e-4bf6-b5de-df2fe0ba571a",
   "metadata": {},
   "outputs": [],
   "source": [
    "y_train_binary = np.where(np.array(y_train) == \"positive\", 1, 0)"
   ]
  },
  {
   "cell_type": "code",
   "execution_count": 107,
   "id": "b5cbfce8-2cda-4c34-923b-a4cc4bbc5c9a",
   "metadata": {},
   "outputs": [],
   "source": [
    "y_test_binary = np.where(np.array(y_test) == \"positive\", 1, 0)"
   ]
  },
  {
   "cell_type": "code",
   "execution_count": 101,
   "id": "f8d219fa-ed04-453b-b832-3a328f8bb8dd",
   "metadata": {},
   "outputs": [
    {
     "data": {
      "text/plain": [
       "array(['negative', 'negative', 'positive', ..., 'negative', 'positive',\n",
       "       'positive'], dtype=object)"
      ]
     },
     "execution_count": 101,
     "metadata": {},
     "output_type": "execute_result"
    }
   ],
   "source": [
    "y_train"
   ]
  },
  {
   "cell_type": "code",
   "execution_count": 97,
   "id": "2b002abc-ab5a-4408-b1de-7c0a6537381e",
   "metadata": {},
   "outputs": [
    {
     "name": "stdout",
     "output_type": "stream",
     "text": [
      "Model: \"sequential\"\n",
      "_________________________________________________________________\n",
      " Layer (type)                Output Shape              Param #   \n",
      "=================================================================\n",
      " layer_embedding (Embedding  (None, 544, 8)            80000     \n",
      " )                                                               \n",
      "                                                                 \n",
      " gru (GRU)                   (None, 544, 16)           1248      \n",
      "                                                                 \n",
      " gru_1 (GRU)                 (None, 544, 8)            624       \n",
      "                                                                 \n",
      " gru_2 (GRU)                 (None, 4)                 168       \n",
      "                                                                 \n",
      " dense (Dense)               (None, 1)                 5         \n",
      "                                                                 \n",
      "=================================================================\n",
      "Total params: 82045 (320.49 KB)\n",
      "Trainable params: 82045 (320.49 KB)\n",
      "Non-trainable params: 0 (0.00 Byte)\n",
      "_________________________________________________________________\n"
     ]
    }
   ],
   "source": [
    "model.summary()"
   ]
  },
  {
   "cell_type": "code",
   "execution_count": 104,
   "id": "442a9a70-d6f6-4c16-bd3c-200baf8d2167",
   "metadata": {},
   "outputs": [
    {
     "name": "stdout",
     "output_type": "stream",
     "text": [
      "Epoch 1/3\n",
      "372/372 [==============================] - 190s 500ms/step - loss: 0.5088 - accuracy: 0.7367 - val_loss: 0.4188 - val_accuracy: 0.8216\n",
      "Epoch 2/3\n",
      "372/372 [==============================] - 182s 489ms/step - loss: 0.2878 - accuracy: 0.8905 - val_loss: 0.3281 - val_accuracy: 0.8712\n",
      "Epoch 3/3\n",
      "372/372 [==============================] - 182s 490ms/step - loss: 0.2168 - accuracy: 0.9232 - val_loss: 0.3227 - val_accuracy: 0.8744\n",
      "CPU times: user 24min 53s, sys: 1min 38s, total: 26min 32s\n",
      "Wall time: 9min 14s\n"
     ]
    },
    {
     "data": {
      "text/plain": [
       "<keras.src.callbacks.History at 0x7f4d997721d0>"
      ]
     },
     "execution_count": 104,
     "metadata": {},
     "output_type": "execute_result"
    }
   ],
   "source": [
    "%%time\n",
    "model.fit(x_train_pad, y_train_binary,\n",
    "          validation_split=0.05, epochs=3, batch_size=64)"
   ]
  },
  {
   "cell_type": "code",
   "execution_count": 108,
   "id": "367f2401-cb03-40a9-96b8-57290c8f4fcc",
   "metadata": {},
   "outputs": [
    {
     "name": "stdout",
     "output_type": "stream",
     "text": [
      "782/782 [==============================] - 53s 68ms/step - loss: 0.3182 - accuracy: 0.8744\n",
      "CPU times: user 2min 28s, sys: 13.3 s, total: 2min 42s\n",
      "Wall time: 53.5 s\n"
     ]
    }
   ],
   "source": [
    "%%time\n",
    "result = model.evaluate(x_test_pad, y_test_binary)"
   ]
  },
  {
   "cell_type": "code",
   "execution_count": 109,
   "id": "72eda632-ca9f-45a8-a5e1-9c3ebb6aed17",
   "metadata": {},
   "outputs": [],
   "source": [
    "text1 = \"This movie is fantastic! I really like it because it is so good!\"\n",
    "text2 = \"Good movie!\"\n",
    "text3 = \"Maybe I like this movie.\"\n",
    "text4 = \"Meh ...\"\n",
    "text5 = \"If I were a drunk teenager then this movie might be good.\"\n",
    "text6 = \"Bad movie!\"\n",
    "text7 = \"Not a good movie!\"\n",
    "text8 = \"This movie really sucks! Can I get my money back please?\"\n",
    "texts = [text1, text2, text3, text4, text5, text6, text7, text8]"
   ]
  },
  {
   "cell_type": "code",
   "execution_count": 110,
   "id": "95b0516f-6205-4d8e-89bb-87579b909c20",
   "metadata": {},
   "outputs": [],
   "source": [
    "tokens = tokenizer.texts_to_sequences(texts)"
   ]
  },
  {
   "cell_type": "code",
   "execution_count": 111,
   "id": "3f8e0f3d-bf1a-4c49-86f3-417d1e7e93e8",
   "metadata": {},
   "outputs": [
    {
     "data": {
      "text/plain": [
       "(8, 544)"
      ]
     },
     "execution_count": 111,
     "metadata": {},
     "output_type": "execute_result"
    }
   ],
   "source": [
    "tokens_pad = pad_sequences(tokens, maxlen=max_tokens,\n",
    "                           padding=pad, truncating=pad)\n",
    "tokens_pad.shape"
   ]
  },
  {
   "cell_type": "code",
   "execution_count": 112,
   "id": "266275bb-da46-4afd-8e2c-3cb3e995c255",
   "metadata": {},
   "outputs": [
    {
     "name": "stdout",
     "output_type": "stream",
     "text": [
      "1/1 [==============================] - 1s 1s/step\n"
     ]
    },
    {
     "data": {
      "text/plain": [
       "array([[0.9276596 ],\n",
       "       [0.7821406 ],\n",
       "       [0.4986251 ],\n",
       "       [0.6660848 ],\n",
       "       [0.27095225],\n",
       "       [0.26185462],\n",
       "       [0.7564928 ],\n",
       "       [0.11080588]], dtype=float32)"
      ]
     },
     "execution_count": 112,
     "metadata": {},
     "output_type": "execute_result"
    }
   ],
   "source": [
    "model.predict(tokens_pad)"
   ]
  },
  {
   "cell_type": "code",
   "execution_count": 113,
   "id": "3dec6ee8-2aa8-45dd-ad2a-ecace7b711f9",
   "metadata": {},
   "outputs": [],
   "source": [
    "layer_embedding = model.get_layer('layer_embedding')"
   ]
  },
  {
   "cell_type": "code",
   "execution_count": 114,
   "id": "c212aff8-ef11-487c-bf4a-54b23bf0165f",
   "metadata": {},
   "outputs": [],
   "source": [
    "weights_embedding = layer_embedding.get_weights()[0]"
   ]
  },
  {
   "cell_type": "code",
   "execution_count": 115,
   "id": "8fed4c18-4448-4389-babb-4b3728ded41c",
   "metadata": {},
   "outputs": [
    {
     "data": {
      "text/plain": [
       "(10000, 8)"
      ]
     },
     "execution_count": 115,
     "metadata": {},
     "output_type": "execute_result"
    }
   ],
   "source": [
    "weights_embedding.shape"
   ]
  },
  {
   "cell_type": "code",
   "execution_count": 116,
   "id": "a52ca2a0-e421-4f23-b69c-08c31f1c148e",
   "metadata": {},
   "outputs": [
    {
     "data": {
      "text/plain": [
       "49"
      ]
     },
     "execution_count": 116,
     "metadata": {},
     "output_type": "execute_result"
    }
   ],
   "source": [
    "token_good = tokenizer.word_index['good']\n",
    "token_good"
   ]
  },
  {
   "cell_type": "code",
   "execution_count": 117,
   "id": "b790a9a8-50b7-458c-b06d-adb6c9eb57fc",
   "metadata": {},
   "outputs": [
    {
     "data": {
      "text/plain": [
       "80"
      ]
     },
     "execution_count": 117,
     "metadata": {},
     "output_type": "execute_result"
    }
   ],
   "source": [
    "token_great = tokenizer.word_index['great']\n",
    "token_great"
   ]
  },
  {
   "cell_type": "code",
   "execution_count": 118,
   "id": "50efa7a9-4f84-459d-bc9d-934a14f88825",
   "metadata": {},
   "outputs": [
    {
     "data": {
      "text/plain": [
       "array([ 0.00501976, -0.07188077, -0.04467661,  0.00393594,  0.05129731,\n",
       "       -0.07264144, -0.06408597,  0.05914665], dtype=float32)"
      ]
     },
     "execution_count": 118,
     "metadata": {},
     "output_type": "execute_result"
    }
   ],
   "source": [
    "weights_embedding[token_good]"
   ]
  },
  {
   "cell_type": "code",
   "execution_count": 119,
   "id": "cb44c4cf-34ed-4619-8863-865ccd2e9bc9",
   "metadata": {},
   "outputs": [
    {
     "data": {
      "text/plain": [
       "array([-0.14714399, -0.12022193, -0.11866444, -0.10321108,  0.0990683 ,\n",
       "       -0.11741692, -0.14278618,  0.15697971], dtype=float32)"
      ]
     },
     "execution_count": 119,
     "metadata": {},
     "output_type": "execute_result"
    }
   ],
   "source": [
    "weights_embedding[token_great]"
   ]
  },
  {
   "cell_type": "code",
   "execution_count": 120,
   "id": "574b9889-ba5a-4d33-a00b-c7f0c423817e",
   "metadata": {},
   "outputs": [],
   "source": [
    "token_bad = tokenizer.word_index['bad']\n",
    "token_horrible = tokenizer.word_index['horrible']"
   ]
  },
  {
   "cell_type": "code",
   "execution_count": 121,
   "id": "1454217a-338c-43b3-b38e-20c4e45e60e7",
   "metadata": {},
   "outputs": [
    {
     "data": {
      "text/plain": [
       "array([ 0.10092527,  0.12562908,  0.09746733,  0.16870795, -0.09921478,\n",
       "        0.13666156,  0.12630787, -0.09644347], dtype=float32)"
      ]
     },
     "execution_count": 121,
     "metadata": {},
     "output_type": "execute_result"
    }
   ],
   "source": [
    "weights_embedding[token_bad]"
   ]
  },
  {
   "cell_type": "code",
   "execution_count": 122,
   "id": "9874fcdf-8a91-4b13-acd7-ac13bb8a3fb3",
   "metadata": {},
   "outputs": [
    {
     "data": {
      "text/plain": [
       "array([ 0.12489053,  0.1587632 ,  0.1243388 ,  0.17373669, -0.08916917,\n",
       "        0.19197491,  0.18161117, -0.15652558], dtype=float32)"
      ]
     },
     "execution_count": 122,
     "metadata": {},
     "output_type": "execute_result"
    }
   ],
   "source": [
    "weights_embedding[token_horrible]"
   ]
  },
  {
   "cell_type": "code",
   "execution_count": null,
   "id": "09ae1405-4f9b-4e19-a1f1-f661b60d7638",
   "metadata": {},
   "outputs": [],
   "source": [
    "def print_sorted_words(word, metric='cosine'):\n",
    "    \"\"\"\n",
    "    Print the words in the vocabulary sorted according to their\n",
    "    embedding-distance to the given word.\n",
    "    Different metrics can be used, e.g. 'cosine' or 'euclidean'.\n",
    "    \"\"\"\n",
    "\n",
    "    # Get the token (i.e. integer ID) for the given word.\n",
    "    token = tokenizer.word_index[word]\n",
    "\n",
    "    # Get the embedding for the given word. Note that the\n",
    "    # embedding-weight-matrix is indexed by the word-tokens\n",
    "    # which are integer IDs.\n",
    "    embedding = weights_embedding[token]\n",
    "\n",
    "    # Calculate the distance between the embeddings for\n",
    "    # this word and all other words in the vocabulary.\n",
    "    distances = cdist(weights_embedding, [embedding],\n",
    "                      metric=metric).T[0]\n",
    "    \n",
    "    # Get an index sorted according to the embedding-distances.\n",
    "    # These are the tokens (integer IDs) for words in the vocabulary.\n",
    "    sorted_index = np.argsort(distances)\n",
    "    \n",
    "    # Sort the embedding-distances.\n",
    "    sorted_distances = distances[sorted_index]\n",
    "    \n",
    "    # Sort all the words in the vocabulary according to their\n",
    "    # embedding-distance. This is a bit excessive because we\n",
    "    # will only print the top and bottom words.\n",
    "    sorted_words = [inverse_map[token] for token in sorted_index\n",
    "                    if token != 0]\n",
    "\n",
    "    # Helper-function for printing words and embedding-distances.\n",
    "    def _print_words(words, distances):\n",
    "        for word, distance in zip(words, distances):\n",
    "            print(\"{0:.3f} - {1}\".format(distance, word))\n",
    "\n",
    "    # Number of words to print from the top and bottom of the list.\n",
    "    k = 10\n",
    "\n",
    "    print(\"Distance from '{0}':\".format(word))\n",
    "\n",
    "    # Print the words with smallest embedding-distance.\n",
    "    _print_words(sorted_words[0:k], sorted_distances[0:k])\n",
    "\n",
    "    print(\"...\")\n",
    "\n",
    "    # Print the words with highest embedding-distance.\n",
    "    _print_words(sorted_words[-k:], sorted_distances[-k:])"
   ]
  },
  {
   "cell_type": "code",
   "execution_count": null,
   "id": "104a8e86-a6e0-408b-8e36-cd70d676d753",
   "metadata": {},
   "outputs": [],
   "source": [
    "print_sorted_words('great', metric='cosine')"
   ]
  },
  {
   "cell_type": "code",
   "execution_count": null,
   "id": "59ca1979-f0ca-4276-8ddf-fd5fe82591e2",
   "metadata": {},
   "outputs": [],
   "source": [
    "print_sorted_words('worst', metric='cosine')"
   ]
  }
 ],
 "metadata": {
  "kernelspec": {
   "display_name": "Python 3 (ipykernel)",
   "language": "python",
   "name": "python3"
  },
  "language_info": {
   "codemirror_mode": {
    "name": "ipython",
    "version": 3
   },
   "file_extension": ".py",
   "mimetype": "text/x-python",
   "name": "python",
   "nbconvert_exporter": "python",
   "pygments_lexer": "ipython3",
   "version": "3.11.4"
  }
 },
 "nbformat": 4,
 "nbformat_minor": 5
}
